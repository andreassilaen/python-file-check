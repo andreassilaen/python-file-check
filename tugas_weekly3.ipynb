{
 "cells": [
  {
   "cell_type": "code",
   "execution_count": 17,
   "metadata": {},
   "outputs": [],
   "source": [
    "import pandas as pd"
   ]
  },
  {
   "cell_type": "code",
   "execution_count": 18,
   "metadata": {},
   "outputs": [
    {
     "name": "stderr",
     "output_type": "stream",
     "text": [
      "C:\\Users\\AndreasSilaen\\AppData\\Local\\Temp\\ipykernel_4716\\2577815071.py:1: DtypeWarning: Columns (3) have mixed types. Specify dtype option on import or set low_memory=False.\n",
      "  df = pd.read_csv('C:/Users/AndreasSilaen/Donwloads/taxi_tripdata.csv')\n"
     ]
    }
   ],
   "source": [
    "df = pd.read_csv('C:/Users/AndreasSilaen/Donwloads/taxi_tripdata.csv')"
   ]
  },
  {
   "cell_type": "code",
   "execution_count": 28,
   "metadata": {},
   "outputs": [
    {
     "name": "stdout",
     "output_type": "stream",
     "text": [
      "<class 'pandas.core.frame.DataFrame'>\n",
      "RangeIndex: 83691 entries, 0 to 83690\n",
      "Data columns (total 19 columns):\n",
      " #   Column                 Non-Null Count  Dtype  \n",
      "---  ------                 --------------  -----  \n",
      " 0   VendorID               51173 non-null  float64\n",
      " 1   lpep_pickup_datetime   83691 non-null  object \n",
      " 2   lpep_dropoff_datetime  83691 non-null  object \n",
      " 3   store_and_fwd_flag     51173 non-null  object \n",
      " 4   RatecodeID             51173 non-null  float64\n",
      " 5   PULocationID           83691 non-null  int64  \n",
      " 6   DOLocationID           83691 non-null  int64  \n",
      " 7   passenger_count        51173 non-null  float64\n",
      " 8   trip_distance          83691 non-null  float64\n",
      " 9   fare_amount            83691 non-null  float64\n",
      " 10  extra                  83691 non-null  float64\n",
      " 11  mta_tax                83691 non-null  float64\n",
      " 12  tip_amount             83691 non-null  float64\n",
      " 13  tolls_amount           83691 non-null  float64\n",
      " 14  improvement_surcharge  83691 non-null  float64\n",
      " 15  total_amount           83691 non-null  float64\n",
      " 16  payment_type           51173 non-null  float64\n",
      " 17  trip_type              51173 non-null  float64\n",
      " 18  congestion_surcharge   51173 non-null  float64\n",
      "dtypes: float64(14), int64(2), object(3)\n",
      "memory usage: 12.1+ MB\n"
     ]
    }
   ],
   "source": [
    "cleaned_df1.info()"
   ]
  },
  {
   "cell_type": "code",
   "execution_count": 27,
   "metadata": {},
   "outputs": [],
   "source": [
    "# Remove the column named \"ehail_fee\"\n",
    "cleaned_df1 = df.drop(columns=['ehail_fee'])"
   ]
  },
  {
   "cell_type": "code",
   "execution_count": 4,
   "metadata": {},
   "outputs": [],
   "source": [
    "# Identify duplicate records based on all columns\n",
    "duplicate_records = df[df.duplicated(keep=False)]"
   ]
  },
  {
   "cell_type": "code",
   "execution_count": 31,
   "metadata": {},
   "outputs": [
    {
     "name": "stdout",
     "output_type": "stream",
     "text": [
      "Number of records in the DataFrame: 51173\n"
     ]
    }
   ],
   "source": [
    "# Check the number of records\n",
    "num_records = cleaned_df2.shape[0]\n",
    "print(\"Number of records in the DataFrame:\", num_records)"
   ]
  },
  {
   "cell_type": "code",
   "execution_count": 8,
   "metadata": {},
   "outputs": [],
   "source": [
    "# Remove duplicate records\n",
    "cleaned_df = df.drop_duplicates(keep='first')"
   ]
  },
  {
   "cell_type": "code",
   "execution_count": 30,
   "metadata": {},
   "outputs": [],
   "source": [
    "# Remove records with null values in any column\n",
    "cleaned_df2 = cleaned_df1.dropna()"
   ]
  },
  {
   "cell_type": "code",
   "execution_count": 32,
   "metadata": {},
   "outputs": [
    {
     "data": {
      "text/html": [
       "<div>\n",
       "<style scoped>\n",
       "    .dataframe tbody tr th:only-of-type {\n",
       "        vertical-align: middle;\n",
       "    }\n",
       "\n",
       "    .dataframe tbody tr th {\n",
       "        vertical-align: top;\n",
       "    }\n",
       "\n",
       "    .dataframe thead th {\n",
       "        text-align: right;\n",
       "    }\n",
       "</style>\n",
       "<table border=\"1\" class=\"dataframe\">\n",
       "  <thead>\n",
       "    <tr style=\"text-align: right;\">\n",
       "      <th></th>\n",
       "      <th>VendorID</th>\n",
       "      <th>lpep_pickup_datetime</th>\n",
       "      <th>lpep_dropoff_datetime</th>\n",
       "      <th>store_and_fwd_flag</th>\n",
       "      <th>RatecodeID</th>\n",
       "      <th>PULocationID</th>\n",
       "      <th>DOLocationID</th>\n",
       "      <th>passenger_count</th>\n",
       "      <th>trip_distance</th>\n",
       "      <th>fare_amount</th>\n",
       "      <th>extra</th>\n",
       "      <th>mta_tax</th>\n",
       "      <th>tip_amount</th>\n",
       "      <th>tolls_amount</th>\n",
       "      <th>improvement_surcharge</th>\n",
       "      <th>total_amount</th>\n",
       "      <th>payment_type</th>\n",
       "      <th>trip_type</th>\n",
       "      <th>congestion_surcharge</th>\n",
       "    </tr>\n",
       "  </thead>\n",
       "  <tbody>\n",
       "    <tr>\n",
       "      <th>0</th>\n",
       "      <td>1.0</td>\n",
       "      <td>2021-07-01 00:30:52</td>\n",
       "      <td>2021-07-01 00:35:36</td>\n",
       "      <td>N</td>\n",
       "      <td>1.0</td>\n",
       "      <td>74</td>\n",
       "      <td>168</td>\n",
       "      <td>1.0</td>\n",
       "      <td>1.20</td>\n",
       "      <td>6.0</td>\n",
       "      <td>0.5</td>\n",
       "      <td>0.5</td>\n",
       "      <td>0.00</td>\n",
       "      <td>0.0</td>\n",
       "      <td>0.3</td>\n",
       "      <td>7.30</td>\n",
       "      <td>2.0</td>\n",
       "      <td>1.0</td>\n",
       "      <td>0.0</td>\n",
       "    </tr>\n",
       "    <tr>\n",
       "      <th>1</th>\n",
       "      <td>2.0</td>\n",
       "      <td>2021-07-01 00:25:36</td>\n",
       "      <td>2021-07-01 01:01:31</td>\n",
       "      <td>N</td>\n",
       "      <td>1.0</td>\n",
       "      <td>116</td>\n",
       "      <td>265</td>\n",
       "      <td>2.0</td>\n",
       "      <td>13.69</td>\n",
       "      <td>42.0</td>\n",
       "      <td>0.5</td>\n",
       "      <td>0.5</td>\n",
       "      <td>0.00</td>\n",
       "      <td>0.0</td>\n",
       "      <td>0.3</td>\n",
       "      <td>43.30</td>\n",
       "      <td>2.0</td>\n",
       "      <td>1.0</td>\n",
       "      <td>0.0</td>\n",
       "    </tr>\n",
       "    <tr>\n",
       "      <th>2</th>\n",
       "      <td>2.0</td>\n",
       "      <td>2021-07-01 00:05:58</td>\n",
       "      <td>2021-07-01 00:12:00</td>\n",
       "      <td>N</td>\n",
       "      <td>1.0</td>\n",
       "      <td>97</td>\n",
       "      <td>33</td>\n",
       "      <td>1.0</td>\n",
       "      <td>0.95</td>\n",
       "      <td>6.5</td>\n",
       "      <td>0.5</td>\n",
       "      <td>0.5</td>\n",
       "      <td>2.34</td>\n",
       "      <td>0.0</td>\n",
       "      <td>0.3</td>\n",
       "      <td>10.14</td>\n",
       "      <td>1.0</td>\n",
       "      <td>1.0</td>\n",
       "      <td>0.0</td>\n",
       "    </tr>\n",
       "    <tr>\n",
       "      <th>3</th>\n",
       "      <td>2.0</td>\n",
       "      <td>2021-07-01 00:41:40</td>\n",
       "      <td>2021-07-01 00:47:23</td>\n",
       "      <td>N</td>\n",
       "      <td>1.0</td>\n",
       "      <td>74</td>\n",
       "      <td>42</td>\n",
       "      <td>1.0</td>\n",
       "      <td>1.24</td>\n",
       "      <td>6.5</td>\n",
       "      <td>0.5</td>\n",
       "      <td>0.5</td>\n",
       "      <td>0.00</td>\n",
       "      <td>0.0</td>\n",
       "      <td>0.3</td>\n",
       "      <td>7.80</td>\n",
       "      <td>2.0</td>\n",
       "      <td>1.0</td>\n",
       "      <td>0.0</td>\n",
       "    </tr>\n",
       "    <tr>\n",
       "      <th>4</th>\n",
       "      <td>2.0</td>\n",
       "      <td>2021-07-01 00:51:32</td>\n",
       "      <td>2021-07-01 00:58:46</td>\n",
       "      <td>N</td>\n",
       "      <td>1.0</td>\n",
       "      <td>42</td>\n",
       "      <td>244</td>\n",
       "      <td>1.0</td>\n",
       "      <td>1.10</td>\n",
       "      <td>7.0</td>\n",
       "      <td>0.5</td>\n",
       "      <td>0.5</td>\n",
       "      <td>0.00</td>\n",
       "      <td>0.0</td>\n",
       "      <td>0.3</td>\n",
       "      <td>8.30</td>\n",
       "      <td>2.0</td>\n",
       "      <td>1.0</td>\n",
       "      <td>0.0</td>\n",
       "    </tr>\n",
       "  </tbody>\n",
       "</table>\n",
       "</div>"
      ],
      "text/plain": [
       "   VendorID lpep_pickup_datetime lpep_dropoff_datetime store_and_fwd_flag  \\\n",
       "0       1.0  2021-07-01 00:30:52   2021-07-01 00:35:36                  N   \n",
       "1       2.0  2021-07-01 00:25:36   2021-07-01 01:01:31                  N   \n",
       "2       2.0  2021-07-01 00:05:58   2021-07-01 00:12:00                  N   \n",
       "3       2.0  2021-07-01 00:41:40   2021-07-01 00:47:23                  N   \n",
       "4       2.0  2021-07-01 00:51:32   2021-07-01 00:58:46                  N   \n",
       "\n",
       "   RatecodeID  PULocationID  DOLocationID  passenger_count  trip_distance  \\\n",
       "0         1.0            74           168              1.0           1.20   \n",
       "1         1.0           116           265              2.0          13.69   \n",
       "2         1.0            97            33              1.0           0.95   \n",
       "3         1.0            74            42              1.0           1.24   \n",
       "4         1.0            42           244              1.0           1.10   \n",
       "\n",
       "   fare_amount  extra  mta_tax  tip_amount  tolls_amount  \\\n",
       "0          6.0    0.5      0.5        0.00           0.0   \n",
       "1         42.0    0.5      0.5        0.00           0.0   \n",
       "2          6.5    0.5      0.5        2.34           0.0   \n",
       "3          6.5    0.5      0.5        0.00           0.0   \n",
       "4          7.0    0.5      0.5        0.00           0.0   \n",
       "\n",
       "   improvement_surcharge  total_amount  payment_type  trip_type  \\\n",
       "0                    0.3          7.30           2.0        1.0   \n",
       "1                    0.3         43.30           2.0        1.0   \n",
       "2                    0.3         10.14           1.0        1.0   \n",
       "3                    0.3          7.80           2.0        1.0   \n",
       "4                    0.3          8.30           2.0        1.0   \n",
       "\n",
       "   congestion_surcharge  \n",
       "0                   0.0  \n",
       "1                   0.0  \n",
       "2                   0.0  \n",
       "3                   0.0  \n",
       "4                   0.0  "
      ]
     },
     "execution_count": 32,
     "metadata": {},
     "output_type": "execute_result"
    }
   ],
   "source": [
    "cleaned_df2.head()"
   ]
  },
  {
   "cell_type": "code",
   "execution_count": 33,
   "metadata": {},
   "outputs": [],
   "source": [
    "cleaned_df2.to_csv('cleaned_nyc_taxi_trips_fix.csv', index=False)"
   ]
  }
 ],
 "metadata": {
  "kernelspec": {
   "display_name": "Python 3",
   "language": "python",
   "name": "python3"
  },
  "language_info": {
   "codemirror_mode": {
    "name": "ipython",
    "version": 3
   },
   "file_extension": ".py",
   "mimetype": "text/x-python",
   "name": "python",
   "nbconvert_exporter": "python",
   "pygments_lexer": "ipython3",
   "version": "3.11.5"
  }
 },
 "nbformat": 4,
 "nbformat_minor": 2
}
